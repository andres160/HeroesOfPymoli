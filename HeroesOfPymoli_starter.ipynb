{
 "cells": [
  {
   "cell_type": "markdown",
   "metadata": {},
   "source": [
    "### Heroes Of Pymoli Data Analysis\n",
    "* Of the 1163 active players, the vast majority are male (84%). There also exists, a smaller, but notable proportion of female players (14%).\n",
    "\n",
    "* Our peak age demographic falls between 20-24 (44.8%) with secondary groups falling between 15-19 (18.60%) and 25-29 (13.4%).  \n",
    "-----"
   ]
  },
  {
   "cell_type": "markdown",
   "metadata": {},
   "source": [
    "### Note\n",
    "* Instructions have been included for each segment. You do not have to follow them exactly, but they are included to help you think through the steps."
   ]
  },
  {
   "cell_type": "code",
   "execution_count": 2,
   "metadata": {},
   "outputs": [],
   "source": [
    "# Dependencies and Setup\n",
    "import pandas as pd\n",
    "import numpy as np\n",
    "\n",
    "# File to Load (Remember to Change These)\n",
    "file_to_load = \"Resources/purchase_data.csv\"\n",
    "\n",
    "# Read Purchasing File and store into Pandas data frame\n",
    "purchase_data = pd.read_csv(file_to_load)"
   ]
  },
  {
   "cell_type": "markdown",
   "metadata": {},
   "source": [
    "## Player Count"
   ]
  },
  {
   "cell_type": "markdown",
   "metadata": {},
   "source": [
    "* Display the total number of players\n"
   ]
  },
  {
   "cell_type": "code",
   "execution_count": 17,
   "metadata": {},
   "outputs": [
    {
     "data": {
      "text/html": [
       "<div>\n",
       "<style scoped>\n",
       "    .dataframe tbody tr th:only-of-type {\n",
       "        vertical-align: middle;\n",
       "    }\n",
       "\n",
       "    .dataframe tbody tr th {\n",
       "        vertical-align: top;\n",
       "    }\n",
       "\n",
       "    .dataframe thead th {\n",
       "        text-align: right;\n",
       "    }\n",
       "</style>\n",
       "<table border=\"1\" class=\"dataframe\">\n",
       "  <thead>\n",
       "    <tr style=\"text-align: right;\">\n",
       "      <th></th>\n",
       "      <th>Total Players</th>\n",
       "    </tr>\n",
       "  </thead>\n",
       "  <tbody>\n",
       "    <tr>\n",
       "      <th>0</th>\n",
       "      <td>576</td>\n",
       "    </tr>\n",
       "  </tbody>\n",
       "</table>\n",
       "</div>"
      ],
      "text/plain": [
       "   Total Players\n",
       "0            576"
      ]
     },
     "execution_count": 17,
     "metadata": {},
     "output_type": "execute_result"
    }
   ],
   "source": [
    "player_count = len(purchase_data['SN'].unique())\n",
    "total_players = pd.DataFrame({'Total Players': [player_count]})\n",
    "total_players"
   ]
  },
  {
   "cell_type": "markdown",
   "metadata": {},
   "source": [
    "## Purchasing Analysis (Total)"
   ]
  },
  {
   "cell_type": "markdown",
   "metadata": {},
   "source": [
    "* Run basic calculations to obtain number of unique items, average price, etc.\n",
    "\n",
    "\n",
    "* Create a summary data frame to hold the results\n",
    "\n",
    "\n",
    "* Optional: give the displayed data cleaner formatting\n",
    "\n",
    "\n",
    "* Display the summary data frame\n"
   ]
  },
  {
   "cell_type": "code",
   "execution_count": 63,
   "metadata": {
    "scrolled": true
   },
   "outputs": [
    {
     "data": {
      "text/html": [
       "<div>\n",
       "<style scoped>\n",
       "    .dataframe tbody tr th:only-of-type {\n",
       "        vertical-align: middle;\n",
       "    }\n",
       "\n",
       "    .dataframe tbody tr th {\n",
       "        vertical-align: top;\n",
       "    }\n",
       "\n",
       "    .dataframe thead th {\n",
       "        text-align: right;\n",
       "    }\n",
       "</style>\n",
       "<table border=\"1\" class=\"dataframe\">\n",
       "  <thead>\n",
       "    <tr style=\"text-align: right;\">\n",
       "      <th></th>\n",
       "      <th>Unique Items</th>\n",
       "      <th>Average Price</th>\n",
       "      <th>Number of Purchases</th>\n",
       "      <th>Total Revenue</th>\n",
       "    </tr>\n",
       "  </thead>\n",
       "  <tbody>\n",
       "    <tr>\n",
       "      <th>0</th>\n",
       "      <td>179</td>\n",
       "      <td>$3.05</td>\n",
       "      <td>780</td>\n",
       "      <td>$780</td>\n",
       "    </tr>\n",
       "  </tbody>\n",
       "</table>\n",
       "</div>"
      ],
      "text/plain": [
       "   Unique Items Average Price  Number of Purchases Total Revenue\n",
       "0           179         $3.05                  780          $780"
      ]
     },
     "execution_count": 63,
     "metadata": {},
     "output_type": "execute_result"
    }
   ],
   "source": [
    "unique_items = len(purchase_data['Item Name'].unique())\n",
    "average_price = purchase_data['Price'].mean()\n",
    "number_purchases = len(purchase_data['Item Name'])\n",
    "total_revenue = purchase_data['Price'].sum()\n",
    "\n",
    "summary = []\n",
    "\n",
    "summary.append(unique_items)\n",
    "summary.append(\"$\" + str(round(average_price,2)))\n",
    "summary.append(number_purchases)\n",
    "summary.append(\"$\" + str(number_purchases))\n",
    "\n",
    "summary1 = pd.DataFrame([summary], columns = ['Unique Items','Average Price','Number of Purchases','Total Revenue'])\n",
    "\n",
    "summary1"
   ]
  },
  {
   "cell_type": "markdown",
   "metadata": {},
   "source": [
    "## Gender Demographics"
   ]
  },
  {
   "cell_type": "markdown",
   "metadata": {},
   "source": [
    "* Percentage and Count of Male Players\n",
    "\n",
    "\n",
    "* Percentage and Count of Female Players\n",
    "\n",
    "\n",
    "* Percentage and Count of Other / Non-Disclosed\n",
    "\n",
    "\n"
   ]
  },
  {
   "cell_type": "code",
   "execution_count": 129,
   "metadata": {},
   "outputs": [
    {
     "data": {
      "text/html": [
       "<div>\n",
       "<style scoped>\n",
       "    .dataframe tbody tr th:only-of-type {\n",
       "        vertical-align: middle;\n",
       "    }\n",
       "\n",
       "    .dataframe tbody tr th {\n",
       "        vertical-align: top;\n",
       "    }\n",
       "\n",
       "    .dataframe thead th {\n",
       "        text-align: right;\n",
       "    }\n",
       "</style>\n",
       "<table border=\"1\" class=\"dataframe\">\n",
       "  <thead>\n",
       "    <tr style=\"text-align: right;\">\n",
       "      <th></th>\n",
       "      <th>Gender</th>\n",
       "      <th>Total Count</th>\n",
       "      <th>Percentage of Players</th>\n",
       "    </tr>\n",
       "  </thead>\n",
       "  <tbody>\n",
       "    <tr>\n",
       "      <th>0</th>\n",
       "      <td>Male</td>\n",
       "      <td>484</td>\n",
       "      <td>84%</td>\n",
       "    </tr>\n",
       "    <tr>\n",
       "      <th>1</th>\n",
       "      <td>Female</td>\n",
       "      <td>81</td>\n",
       "      <td>14%</td>\n",
       "    </tr>\n",
       "    <tr>\n",
       "      <th>2</th>\n",
       "      <td>Other</td>\n",
       "      <td>11</td>\n",
       "      <td>1%</td>\n",
       "    </tr>\n",
       "  </tbody>\n",
       "</table>\n",
       "</div>"
      ],
      "text/plain": [
       "   Gender  Total Count Percentage of Players\n",
       "0    Male          484                   84%\n",
       "1  Female           81                   14%\n",
       "2   Other           11                    1%"
      ]
     },
     "execution_count": 129,
     "metadata": {},
     "output_type": "execute_result"
    }
   ],
   "source": [
    "duplicate = purchase_data.drop_duplicates(subset='SN', keep=\"first\")\n",
    "\n",
    "totalGender = duplicate['Gender'].count()\n",
    "totalMale = duplicate['Gender'].value_counts()['Male']\n",
    "totalFemale = duplicate['Gender'].value_counts()['Female']\n",
    "totalOther = duplicate['Gender'].value_counts()['Other / Non-Disclosed']\n",
    "\n",
    "percentMale = totalMale/totalGender\n",
    "percentFemale = totalFemale/totalGender\n",
    "percentOther = totalOther/totalGender\n",
    "\n",
    "genderDemographics = pd.DataFrame({\"Gender\":[\"Male\",\"Female\",\"Other\"],\n",
    "                                   \"Total Count\":[totalMale,totalFemale,totalOther],\n",
    "                                   \"Percentage of Players\":[percentMale,percentFemale,percentOther]})\n",
    "\n",
    "genderDemographics[\"Percentage of Players\"] = genderDemographics[\"Percentage of Players\"].mul(100).astype(int).astype(str).add('%')\n",
    "\n",
    "\n",
    "\n",
    "genderDemographics\n"
   ]
  },
  {
   "cell_type": "markdown",
   "metadata": {},
   "source": [
    "\n",
    "## Purchasing Analysis (Gender)"
   ]
  },
  {
   "cell_type": "markdown",
   "metadata": {},
   "source": [
    "* Run basic calculations to obtain purchase count, avg. purchase price, avg. purchase total per person etc. by gender\n",
    "\n",
    "\n",
    "\n",
    "\n",
    "* Create a summary data frame to hold the results\n",
    "\n",
    "\n",
    "* Optional: give the displayed data cleaner formatting\n",
    "\n",
    "\n",
    "* Display the summary data frame"
   ]
  },
  {
   "cell_type": "code",
   "execution_count": 103,
   "metadata": {},
   "outputs": [
    {
     "data": {
      "text/html": [
       "<div>\n",
       "<style scoped>\n",
       "    .dataframe tbody tr th:only-of-type {\n",
       "        vertical-align: middle;\n",
       "    }\n",
       "\n",
       "    .dataframe tbody tr th {\n",
       "        vertical-align: top;\n",
       "    }\n",
       "\n",
       "    .dataframe thead th {\n",
       "        text-align: right;\n",
       "    }\n",
       "</style>\n",
       "<table border=\"1\" class=\"dataframe\">\n",
       "  <thead>\n",
       "    <tr style=\"text-align: right;\">\n",
       "      <th></th>\n",
       "      <th>Purchase Count</th>\n",
       "      <th>Average Purchase Price</th>\n",
       "      <th>Total Purchase Value</th>\n",
       "      <th>Avg Total Purchase per Person</th>\n",
       "    </tr>\n",
       "    <tr>\n",
       "      <th>Gender</th>\n",
       "      <th></th>\n",
       "      <th></th>\n",
       "      <th></th>\n",
       "      <th></th>\n",
       "    </tr>\n",
       "  </thead>\n",
       "  <tbody>\n",
       "    <tr>\n",
       "      <th>Female</th>\n",
       "      <td>113</td>\n",
       "      <td>$3.20</td>\n",
       "      <td>$361.94</td>\n",
       "      <td>$4.47</td>\n",
       "    </tr>\n",
       "    <tr>\n",
       "      <th>Male</th>\n",
       "      <td>652</td>\n",
       "      <td>$3.02</td>\n",
       "      <td>$1967.64</td>\n",
       "      <td>$4.07</td>\n",
       "    </tr>\n",
       "    <tr>\n",
       "      <th>Other / Non-Disclosed</th>\n",
       "      <td>15</td>\n",
       "      <td>$3.35</td>\n",
       "      <td>$50.19</td>\n",
       "      <td>$4.56</td>\n",
       "    </tr>\n",
       "  </tbody>\n",
       "</table>\n",
       "</div>"
      ],
      "text/plain": [
       "                       Purchase Count Average Purchase Price  \\\n",
       "Gender                                                         \n",
       "Female                            113                  $3.20   \n",
       "Male                              652                  $3.02   \n",
       "Other / Non-Disclosed              15                  $3.35   \n",
       "\n",
       "                      Total Purchase Value Avg Total Purchase per Person  \n",
       "Gender                                                                    \n",
       "Female                             $361.94                         $4.47  \n",
       "Male                              $1967.64                         $4.07  \n",
       "Other / Non-Disclosed               $50.19                         $4.56  "
      ]
     },
     "execution_count": 103,
     "metadata": {},
     "output_type": "execute_result"
    }
   ],
   "source": [
    "\n",
    "grouped_df = purchase_data.groupby([\"Gender\"])\n",
    "\n",
    "\n",
    "purchaseCount = grouped_df[\"SN\"].count()\n",
    "purchasePrice = grouped_df[\"Price\"].mean()\n",
    "purchaseValue = grouped_df[\"Price\"].sum()\n",
    "\n",
    "\n",
    "duplicate = purchase_data.drop_duplicates(subset='SN', keep=\"first\")\n",
    "grouped_dup = duplicate.groupby([\"Gender\"])\n",
    "\n",
    "\n",
    "purchaseavgperson = (grouped_df[\"Price\"].sum() / grouped_dup[\"SN\"].count())\n",
    "\n",
    "\n",
    "PurchaseAnalysisGender = pd.DataFrame({\"Purchase Count\": purchaseCount,\n",
    "                              \"Average Purchase Price\": purchasePrice,\n",
    "                              \"Total Purchase Value\": purchaseValue,\n",
    "                              \"Avg Total Purchase per Person\": purchaseavgperson})\n",
    "\n",
    "PurchaseAnalysisGender[\"Average Purchase Price\"] = PurchaseAnalysisGender[\"Average Purchase Price\"].map(\"${:.2f}\".format)\n",
    "PurchaseAnalysisGender[\"Total Purchase Value\"] = PurchaseAnalysisGender[\"Total Purchase Value\"].map(\"${:.2f}\".format)\n",
    "PurchaseAnalysisGender[\"Avg Total Purchase per Person\"] = PurchaseAnalysisGender[\"Avg Total Purchase per Person\"].map(\"${:.2f}\".format)\n",
    "PurchaseAnalysisGender = PurchaseAnalysisGender[[\"Purchase Count\", \"Average Purchase Price\", \"Total Purchase Value\", \"Avg Total Purchase per Person\"]]\n",
    "\n",
    "\n",
    "\n",
    "PurchaseAnalysisGender\n"
   ]
  },
  {
   "cell_type": "markdown",
   "metadata": {},
   "source": [
    "## Age Demographics"
   ]
  },
  {
   "cell_type": "markdown",
   "metadata": {},
   "source": [
    "* Establish bins for ages\n",
    "\n",
    "\n",
    "* Categorize the existing players using the age bins. Hint: use pd.cut()\n",
    "\n",
    "\n",
    "* Calculate the numbers and percentages by age group\n",
    "\n",
    "\n",
    "* Create a summary data frame to hold the results\n",
    "\n",
    "\n",
    "* Optional: round the percentage column to two decimal points\n",
    "\n",
    "\n",
    "* Display Age Demographics Table\n"
   ]
  },
  {
   "cell_type": "code",
   "execution_count": 136,
   "metadata": {},
   "outputs": [
    {
     "data": {
      "text/html": [
       "<div>\n",
       "<style scoped>\n",
       "    .dataframe tbody tr th:only-of-type {\n",
       "        vertical-align: middle;\n",
       "    }\n",
       "\n",
       "    .dataframe tbody tr th {\n",
       "        vertical-align: top;\n",
       "    }\n",
       "\n",
       "    .dataframe thead th {\n",
       "        text-align: right;\n",
       "    }\n",
       "</style>\n",
       "<table border=\"1\" class=\"dataframe\">\n",
       "  <thead>\n",
       "    <tr style=\"text-align: right;\">\n",
       "      <th></th>\n",
       "      <th>Total Count</th>\n",
       "      <th>Percentage of Players</th>\n",
       "    </tr>\n",
       "    <tr>\n",
       "      <th>Age Groups</th>\n",
       "      <th></th>\n",
       "      <th></th>\n",
       "    </tr>\n",
       "  </thead>\n",
       "  <tbody>\n",
       "    <tr>\n",
       "      <th>Under 10</th>\n",
       "      <td>32</td>\n",
       "      <td>4.10%</td>\n",
       "    </tr>\n",
       "    <tr>\n",
       "      <th>10 - 14</th>\n",
       "      <td>54</td>\n",
       "      <td>6.92%</td>\n",
       "    </tr>\n",
       "    <tr>\n",
       "      <th>15 - 19</th>\n",
       "      <td>200</td>\n",
       "      <td>25.64%</td>\n",
       "    </tr>\n",
       "    <tr>\n",
       "      <th>20 - 24</th>\n",
       "      <td>325</td>\n",
       "      <td>41.67%</td>\n",
       "    </tr>\n",
       "    <tr>\n",
       "      <th>25 - 29</th>\n",
       "      <td>77</td>\n",
       "      <td>9.87%</td>\n",
       "    </tr>\n",
       "    <tr>\n",
       "      <th>30 - 34</th>\n",
       "      <td>52</td>\n",
       "      <td>6.67%</td>\n",
       "    </tr>\n",
       "    <tr>\n",
       "      <th>35 - 39</th>\n",
       "      <td>33</td>\n",
       "      <td>4.23%</td>\n",
       "    </tr>\n",
       "    <tr>\n",
       "      <th>Over 40</th>\n",
       "      <td>7</td>\n",
       "      <td>0.90%</td>\n",
       "    </tr>\n",
       "  </tbody>\n",
       "</table>\n",
       "</div>"
      ],
      "text/plain": [
       "            Total Count Percentage of Players\n",
       "Age Groups                                   \n",
       "Under 10             32                 4.10%\n",
       "10 - 14              54                 6.92%\n",
       "15 - 19             200                25.64%\n",
       "20 - 24             325                41.67%\n",
       "25 - 29              77                 9.87%\n",
       "30 - 34              52                 6.67%\n",
       "35 - 39              33                 4.23%\n",
       "Over 40               7                 0.90%"
      ]
     },
     "execution_count": 136,
     "metadata": {},
     "output_type": "execute_result"
    }
   ],
   "source": [
    "\n",
    "bins = [0,10,15,20,25,30,35,40,200]\n",
    "bin_labels = ['Under 10', '10 - 14', '15 - 19', '20 - 24', '25 - 29', '30 - 34', '35 - 39', 'Over 40']\n",
    "\n",
    "\n",
    "bin_df = purchase_data.copy()\n",
    "bin_df[\"Age Groups\"] = pd.cut(bin_df[\"Age\"], bins, labels=bin_labels)\n",
    "group_bin = bin_df.groupby([\"Age Groups\"])\n",
    "\n",
    "\n",
    "binCount = group_bin[\"SN\"].count()\n",
    "countTotal = purchase_data[\"SN\"].count()\n",
    "percentage = (binCount / countTotal) * 100\n",
    "percentage\n",
    "\n",
    "\n",
    "Age_Percentage = pd.DataFrame({\"Total Count\": binCount,\n",
    "                         \"Percentage of Players\": percentage})\n",
    "\n",
    "\n",
    "Age_Percentage[\"Percentage of Players\"] = Age_Percentage[\"Percentage of Players\"].map(\"{:.2f}%\".format)\n",
    "Age_Percentage.head(10)\n"
   ]
  },
  {
   "cell_type": "markdown",
   "metadata": {},
   "source": [
    "## Purchasing Analysis (Age)"
   ]
  },
  {
   "cell_type": "markdown",
   "metadata": {},
   "source": [
    "* Bin the purchase_data data frame by age\n",
    "\n",
    "\n",
    "* Run basic calculations to obtain purchase count, avg. purchase price, avg. purchase total per person etc. in the table below\n",
    "\n",
    "\n",
    "* Create a summary data frame to hold the results\n",
    "\n",
    "\n",
    "* Optional: give the displayed data cleaner formatting\n",
    "\n",
    "\n",
    "* Display the summary data frame"
   ]
  },
  {
   "cell_type": "code",
   "execution_count": 144,
   "metadata": {},
   "outputs": [
    {
     "data": {
      "text/html": [
       "<div>\n",
       "<style scoped>\n",
       "    .dataframe tbody tr th:only-of-type {\n",
       "        vertical-align: middle;\n",
       "    }\n",
       "\n",
       "    .dataframe tbody tr th {\n",
       "        vertical-align: top;\n",
       "    }\n",
       "\n",
       "    .dataframe thead th {\n",
       "        text-align: right;\n",
       "    }\n",
       "</style>\n",
       "<table border=\"1\" class=\"dataframe\">\n",
       "  <thead>\n",
       "    <tr style=\"text-align: right;\">\n",
       "      <th></th>\n",
       "      <th>Purchase Count</th>\n",
       "      <th>Average Purchase Price</th>\n",
       "      <th>Total Purchase Value</th>\n",
       "    </tr>\n",
       "    <tr>\n",
       "      <th>Age Groups</th>\n",
       "      <th></th>\n",
       "      <th></th>\n",
       "      <th></th>\n",
       "    </tr>\n",
       "  </thead>\n",
       "  <tbody>\n",
       "    <tr>\n",
       "      <th>Under 10</th>\n",
       "      <td>32</td>\n",
       "      <td>3.405000</td>\n",
       "      <td>108.96</td>\n",
       "    </tr>\n",
       "    <tr>\n",
       "      <th>10 - 14</th>\n",
       "      <td>54</td>\n",
       "      <td>2.900000</td>\n",
       "      <td>156.60</td>\n",
       "    </tr>\n",
       "    <tr>\n",
       "      <th>15 - 19</th>\n",
       "      <td>200</td>\n",
       "      <td>3.107800</td>\n",
       "      <td>621.56</td>\n",
       "    </tr>\n",
       "    <tr>\n",
       "      <th>20 - 24</th>\n",
       "      <td>325</td>\n",
       "      <td>3.020431</td>\n",
       "      <td>981.64</td>\n",
       "    </tr>\n",
       "    <tr>\n",
       "      <th>25 - 29</th>\n",
       "      <td>77</td>\n",
       "      <td>2.875584</td>\n",
       "      <td>221.42</td>\n",
       "    </tr>\n",
       "    <tr>\n",
       "      <th>30 - 34</th>\n",
       "      <td>52</td>\n",
       "      <td>2.994423</td>\n",
       "      <td>155.71</td>\n",
       "    </tr>\n",
       "    <tr>\n",
       "      <th>35 - 39</th>\n",
       "      <td>33</td>\n",
       "      <td>3.404545</td>\n",
       "      <td>112.35</td>\n",
       "    </tr>\n",
       "    <tr>\n",
       "      <th>Over 40</th>\n",
       "      <td>7</td>\n",
       "      <td>3.075714</td>\n",
       "      <td>21.53</td>\n",
       "    </tr>\n",
       "  </tbody>\n",
       "</table>\n",
       "</div>"
      ],
      "text/plain": [
       "            Purchase Count  Average Purchase Price  Total Purchase Value\n",
       "Age Groups                                                              \n",
       "Under 10                32                3.405000                108.96\n",
       "10 - 14                 54                2.900000                156.60\n",
       "15 - 19                200                3.107800                621.56\n",
       "20 - 24                325                3.020431                981.64\n",
       "25 - 29                 77                2.875584                221.42\n",
       "30 - 34                 52                2.994423                155.71\n",
       "35 - 39                 33                3.404545                112.35\n",
       "Over 40                  7                3.075714                 21.53"
      ]
     },
     "execution_count": 144,
     "metadata": {},
     "output_type": "execute_result"
    }
   ],
   "source": [
    "\n",
    "bins = [0,10,15,20,25,30,35,40,200]\n",
    "bin_labels = ['Under 10', '10 - 14', '15 - 19', '20 - 24', '25 - 29', '30 - 34', '35 - 39', 'Over 40']\n",
    "\n",
    "\n",
    "bin_df = purchase_data.copy()\n",
    "bin_df[\"Age Groups\"] = pd.cut(bin_df[\"Age\"], bins, labels=bin_labels)\n",
    "group_bin = bin_df.groupby([\"Age Groups\"])\n",
    "\n",
    "\n",
    "binPCount = group_bin[\"Age\"].count()\n",
    "binPAver = group_bin[\"Price\"].mean()\n",
    "binPTotal = group_bin[\"Price\"].sum()\n",
    "\n",
    "\n",
    "\n",
    "# Create new DF and format\n",
    "Agedemographics = pd.DataFrame({\"Purchase Count\": binPCount,\n",
    "                         \"Average Purchase Price\": binPAver,\n",
    "                         \"Total Purchase Value\": binPTotal})\n",
    "Agedemographics"
   ]
  },
  {
   "cell_type": "markdown",
   "metadata": {},
   "source": [
    "## Top Spenders"
   ]
  },
  {
   "cell_type": "markdown",
   "metadata": {},
   "source": [
    "* Run basic calculations to obtain the results in the table below\n",
    "\n",
    "\n",
    "* Create a summary data frame to hold the results\n",
    "\n",
    "\n",
    "* Sort the total purchase value column in descending order\n",
    "\n",
    "\n",
    "* Optional: give the displayed data cleaner formatting\n",
    "\n",
    "\n",
    "* Display a preview of the summary data frame\n",
    "\n"
   ]
  },
  {
   "cell_type": "code",
   "execution_count": 146,
   "metadata": {},
   "outputs": [
    {
     "data": {
      "text/html": [
       "<style  type=\"text/css\" >\n",
       "</style>  \n",
       "<table id=\"T_f0f2247c_04dc_11e9_b3ba_e0accb5fc9a2\" > \n",
       "<thead>    <tr> \n",
       "        <th class=\"blank level0\" ></th> \n",
       "        <th class=\"col_heading level0 col0\" >Purchase Count</th> \n",
       "        <th class=\"col_heading level0 col1\" >Average Purchase Price</th> \n",
       "        <th class=\"col_heading level0 col2\" >Total Purchase Value</th> \n",
       "    </tr>    <tr> \n",
       "        <th class=\"index_name level0\" >SN</th> \n",
       "        <th class=\"blank\" ></th> \n",
       "        <th class=\"blank\" ></th> \n",
       "        <th class=\"blank\" ></th> \n",
       "    </tr></thead> \n",
       "<tbody>    <tr> \n",
       "        <th id=\"T_f0f2247c_04dc_11e9_b3ba_e0accb5fc9a2level0_row0\" class=\"row_heading level0 row0\" >Lisosia93</th> \n",
       "        <td id=\"T_f0f2247c_04dc_11e9_b3ba_e0accb5fc9a2row0_col0\" class=\"data row0 col0\" >5</td> \n",
       "        <td id=\"T_f0f2247c_04dc_11e9_b3ba_e0accb5fc9a2row0_col1\" class=\"data row0 col1\" >$3.79</td> \n",
       "        <td id=\"T_f0f2247c_04dc_11e9_b3ba_e0accb5fc9a2row0_col2\" class=\"data row0 col2\" >$18.96</td> \n",
       "    </tr>    <tr> \n",
       "        <th id=\"T_f0f2247c_04dc_11e9_b3ba_e0accb5fc9a2level0_row1\" class=\"row_heading level0 row1\" >Idastidru52</th> \n",
       "        <td id=\"T_f0f2247c_04dc_11e9_b3ba_e0accb5fc9a2row1_col0\" class=\"data row1 col0\" >4</td> \n",
       "        <td id=\"T_f0f2247c_04dc_11e9_b3ba_e0accb5fc9a2row1_col1\" class=\"data row1 col1\" >$3.86</td> \n",
       "        <td id=\"T_f0f2247c_04dc_11e9_b3ba_e0accb5fc9a2row1_col2\" class=\"data row1 col2\" >$15.45</td> \n",
       "    </tr>    <tr> \n",
       "        <th id=\"T_f0f2247c_04dc_11e9_b3ba_e0accb5fc9a2level0_row2\" class=\"row_heading level0 row2\" >Chamjask73</th> \n",
       "        <td id=\"T_f0f2247c_04dc_11e9_b3ba_e0accb5fc9a2row2_col0\" class=\"data row2 col0\" >3</td> \n",
       "        <td id=\"T_f0f2247c_04dc_11e9_b3ba_e0accb5fc9a2row2_col1\" class=\"data row2 col1\" >$4.61</td> \n",
       "        <td id=\"T_f0f2247c_04dc_11e9_b3ba_e0accb5fc9a2row2_col2\" class=\"data row2 col2\" >$13.83</td> \n",
       "    </tr>    <tr> \n",
       "        <th id=\"T_f0f2247c_04dc_11e9_b3ba_e0accb5fc9a2level0_row3\" class=\"row_heading level0 row3\" >Iral74</th> \n",
       "        <td id=\"T_f0f2247c_04dc_11e9_b3ba_e0accb5fc9a2row3_col0\" class=\"data row3 col0\" >4</td> \n",
       "        <td id=\"T_f0f2247c_04dc_11e9_b3ba_e0accb5fc9a2row3_col1\" class=\"data row3 col1\" >$3.40</td> \n",
       "        <td id=\"T_f0f2247c_04dc_11e9_b3ba_e0accb5fc9a2row3_col2\" class=\"data row3 col2\" >$13.62</td> \n",
       "    </tr>    <tr> \n",
       "        <th id=\"T_f0f2247c_04dc_11e9_b3ba_e0accb5fc9a2level0_row4\" class=\"row_heading level0 row4\" >Iskadarya95</th> \n",
       "        <td id=\"T_f0f2247c_04dc_11e9_b3ba_e0accb5fc9a2row4_col0\" class=\"data row4 col0\" >3</td> \n",
       "        <td id=\"T_f0f2247c_04dc_11e9_b3ba_e0accb5fc9a2row4_col1\" class=\"data row4 col1\" >$4.37</td> \n",
       "        <td id=\"T_f0f2247c_04dc_11e9_b3ba_e0accb5fc9a2row4_col2\" class=\"data row4 col2\" >$13.10</td> \n",
       "    </tr></tbody> \n",
       "</table> "
      ],
      "text/plain": [
       "<pandas.io.formats.style.Styler at 0x1153f0da0>"
      ]
     },
     "execution_count": 146,
     "metadata": {},
     "output_type": "execute_result"
    }
   ],
   "source": [
    "sntotal_purchase = purchase_data.groupby('SN')['Price'].sum().to_frame()\n",
    "snpurchase_count = purchase_data.groupby('SN')['Price'].count().to_frame()\n",
    "snpurchase_avg = purchase_data.groupby('SN')['Price'].mean().to_frame()\n",
    "\n",
    "sntotal_purchase.columns=[\"Total Purchase Value\"]\n",
    "join_one = sntotal_purchase.join(snpurchase_count, how=\"left\")\n",
    "join_one.columns=[\"Total Purchase Value\", \"Purchase Count\"]\n",
    "\n",
    "join_two = join_one.join(snpurchase_avg, how=\"inner\")\n",
    "join_two.columns=[\"Total Purchase Value\", \"Purchase Count\", \"Average Purchase Price\"]\n",
    "\n",
    "topspenders_df = join_two[[\"Purchase Count\", \"Average Purchase Price\", \"Total Purchase Value\"]]\n",
    "topspenders_final = top_spenders_df.sort_values('Total Purchase Value', ascending=False).head()\n",
    "topspenders_final.style.format({\"Average Purchase Price\": \"${:.2f}\", \"Total Purchase Value\": \"${:.2f}\"})"
   ]
  },
  {
   "cell_type": "markdown",
   "metadata": {},
   "source": [
    "## Most Popular Items"
   ]
  },
  {
   "cell_type": "markdown",
   "metadata": {},
   "source": [
    "* Retrieve the Item ID, Item Name, and Item Price columns\n",
    "\n",
    "\n",
    "* Group by Item ID and Item Name. Perform calculations to obtain purchase count, item price, and total purchase value\n",
    "\n",
    "\n",
    "* Create a summary data frame to hold the results\n",
    "\n",
    "\n",
    "* Sort the purchase count column in descending order\n",
    "\n",
    "\n",
    "* Optional: give the displayed data cleaner formatting\n",
    "\n",
    "\n",
    "* Display a preview of the summary data frame\n",
    "\n"
   ]
  },
  {
   "cell_type": "code",
   "execution_count": 166,
   "metadata": {},
   "outputs": [
    {
     "data": {
      "text/html": [
       "<style  type=\"text/css\" >\n",
       "</style>  \n",
       "<table id=\"T_3001c176_04de_11e9_b3ba_e0accb5fc9a2\" > \n",
       "<thead>    <tr> \n",
       "        <th class=\"blank\" ></th> \n",
       "        <th class=\"blank level0\" ></th> \n",
       "        <th class=\"col_heading level0 col0\" >Purchase Count</th> \n",
       "        <th class=\"col_heading level0 col1\" >Item Price</th> \n",
       "        <th class=\"col_heading level0 col2\" >Total Purchase Value</th> \n",
       "    </tr>    <tr> \n",
       "        <th class=\"index_name level0\" >Item Name</th> \n",
       "        <th class=\"index_name level1\" >Item ID</th> \n",
       "        <th class=\"blank\" ></th> \n",
       "        <th class=\"blank\" ></th> \n",
       "        <th class=\"blank\" ></th> \n",
       "    </tr></thead> \n",
       "<tbody>    <tr> \n",
       "        <th id=\"T_3001c176_04de_11e9_b3ba_e0accb5fc9a2level0_row0\" class=\"row_heading level0 row0\" >Oathbreaker, Last Hope of the Breaking Storm</th> \n",
       "        <th id=\"T_3001c176_04de_11e9_b3ba_e0accb5fc9a2level1_row0\" class=\"row_heading level1 row0\" >178</th> \n",
       "        <td id=\"T_3001c176_04de_11e9_b3ba_e0accb5fc9a2row0_col0\" class=\"data row0 col0\" >12</td> \n",
       "        <td id=\"T_3001c176_04de_11e9_b3ba_e0accb5fc9a2row0_col1\" class=\"data row0 col1\" >$4.23</td> \n",
       "        <td id=\"T_3001c176_04de_11e9_b3ba_e0accb5fc9a2row0_col2\" class=\"data row0 col2\" >$50.76</td> \n",
       "    </tr>    <tr> \n",
       "        <th id=\"T_3001c176_04de_11e9_b3ba_e0accb5fc9a2level0_row1\" class=\"row_heading level0 row1\" >Nirvana</th> \n",
       "        <th id=\"T_3001c176_04de_11e9_b3ba_e0accb5fc9a2level1_row1\" class=\"row_heading level1 row1\" >82</th> \n",
       "        <td id=\"T_3001c176_04de_11e9_b3ba_e0accb5fc9a2row1_col0\" class=\"data row1 col0\" >9</td> \n",
       "        <td id=\"T_3001c176_04de_11e9_b3ba_e0accb5fc9a2row1_col1\" class=\"data row1 col1\" >$4.90</td> \n",
       "        <td id=\"T_3001c176_04de_11e9_b3ba_e0accb5fc9a2row1_col2\" class=\"data row1 col2\" >$44.10</td> \n",
       "    </tr>    <tr> \n",
       "        <th id=\"T_3001c176_04de_11e9_b3ba_e0accb5fc9a2level0_row2\" class=\"row_heading level0 row2\" >Fiery Glass Crusader</th> \n",
       "        <th id=\"T_3001c176_04de_11e9_b3ba_e0accb5fc9a2level1_row2\" class=\"row_heading level1 row2\" >145</th> \n",
       "        <td id=\"T_3001c176_04de_11e9_b3ba_e0accb5fc9a2row2_col0\" class=\"data row2 col0\" >9</td> \n",
       "        <td id=\"T_3001c176_04de_11e9_b3ba_e0accb5fc9a2row2_col1\" class=\"data row2 col1\" >$4.58</td> \n",
       "        <td id=\"T_3001c176_04de_11e9_b3ba_e0accb5fc9a2row2_col2\" class=\"data row2 col2\" >$41.22</td> \n",
       "    </tr>    <tr> \n",
       "        <th id=\"T_3001c176_04de_11e9_b3ba_e0accb5fc9a2level0_row3\" class=\"row_heading level0 row3\" >Extraction, Quickblade Of Trembling Hands</th> \n",
       "        <th id=\"T_3001c176_04de_11e9_b3ba_e0accb5fc9a2level1_row3\" class=\"row_heading level1 row3\" >108</th> \n",
       "        <td id=\"T_3001c176_04de_11e9_b3ba_e0accb5fc9a2row3_col0\" class=\"data row3 col0\" >9</td> \n",
       "        <td id=\"T_3001c176_04de_11e9_b3ba_e0accb5fc9a2row3_col1\" class=\"data row3 col1\" >$3.53</td> \n",
       "        <td id=\"T_3001c176_04de_11e9_b3ba_e0accb5fc9a2row3_col2\" class=\"data row3 col2\" >$31.77</td> \n",
       "    </tr>    <tr> \n",
       "        <th id=\"T_3001c176_04de_11e9_b3ba_e0accb5fc9a2level0_row4\" class=\"row_heading level0 row4\" >Singed Scalpel</th> \n",
       "        <th id=\"T_3001c176_04de_11e9_b3ba_e0accb5fc9a2level1_row4\" class=\"row_heading level1 row4\" >103</th> \n",
       "        <td id=\"T_3001c176_04de_11e9_b3ba_e0accb5fc9a2row4_col0\" class=\"data row4 col0\" >8</td> \n",
       "        <td id=\"T_3001c176_04de_11e9_b3ba_e0accb5fc9a2row4_col1\" class=\"data row4 col1\" >$4.35</td> \n",
       "        <td id=\"T_3001c176_04de_11e9_b3ba_e0accb5fc9a2row4_col2\" class=\"data row4 col2\" >$34.80</td> \n",
       "    </tr></tbody> \n",
       "</table> "
      ],
      "text/plain": [
       "<pandas.io.formats.style.Styler at 0x115431630>"
      ]
     },
     "execution_count": 166,
     "metadata": {},
     "output_type": "execute_result"
    }
   ],
   "source": [
    "\n",
    "mergeone = purchase_data.groupby(\"Item Name\").sum().reset_index()\n",
    "mergetwo = purchase_data.groupby(\"Item ID\").sum().reset_index()\n",
    "mergethree = purchase_data.groupby(\"Item Name\").count().reset_index()\n",
    "\n",
    "#merge dataframes\n",
    "finalmergeone = pd.merge(mergeone, mergetwo, on=\"Price\")\n",
    "finalmergetwo = pd.merge(mergethree, finalmergeone, on=\"Item Name\")\n",
    "\n",
    "#start to create final dataframe by manipulating data\n",
    "finalmergetwo[\"Gender\"] = (finalmergetwo[\"Price_y\"]/finalmergetwo[\"Item ID\"]).round(2)\n",
    "\n",
    "finalmergetwo_renamed = finalmergetwo.rename(columns={\"Age\": \"Purchase Count\", \"Gender\": \"Item Price\", \"Item ID\": \"null\", \"Price_y\": \"Total Purchase Value\", \"Item ID_y\": \"Item ID\"})\n",
    "\n",
    "#grab columns we are looking for\n",
    "clean_df = finalmergetwo_renamed[[\"Item ID\", \"Item Name\", \"Purchase Count\", \"Item Price\", \"Total Purchase Value\"]]\n",
    "\n",
    "most_pop = clean_df.set_index(['Item Name', 'Item ID'])\n",
    "most_popfinal = most_pop.sort_values('Purchase Count', ascending=False).head(5)\n",
    "most_popfinal.style.format({\"Item Price\": \"${:.2f}\", \"Total Purchase Value\": \"${:.2f}\"})\n"
   ]
  },
  {
   "cell_type": "markdown",
   "metadata": {},
   "source": [
    "## Most Profitable Items"
   ]
  },
  {
   "cell_type": "markdown",
   "metadata": {},
   "source": [
    "* Sort the above table by total purchase value in descending order\n",
    "\n",
    "\n",
    "* Optional: give the displayed data cleaner formatting\n",
    "\n",
    "\n",
    "* Display a preview of the data frame\n",
    "\n"
   ]
  },
  {
   "cell_type": "code",
   "execution_count": 165,
   "metadata": {
    "scrolled": true
   },
   "outputs": [
    {
     "data": {
      "text/html": [
       "<style  type=\"text/css\" >\n",
       "</style>  \n",
       "<table id=\"T_157d4b54_04de_11e9_b3ba_e0accb5fc9a2\" > \n",
       "<thead>    <tr> \n",
       "        <th class=\"blank\" ></th> \n",
       "        <th class=\"blank level0\" ></th> \n",
       "        <th class=\"col_heading level0 col0\" >Purchase Count</th> \n",
       "        <th class=\"col_heading level0 col1\" >Item Price</th> \n",
       "        <th class=\"col_heading level0 col2\" >Total Purchase Value</th> \n",
       "    </tr>    <tr> \n",
       "        <th class=\"index_name level0\" >Item Name</th> \n",
       "        <th class=\"index_name level1\" >Item ID</th> \n",
       "        <th class=\"blank\" ></th> \n",
       "        <th class=\"blank\" ></th> \n",
       "        <th class=\"blank\" ></th> \n",
       "    </tr></thead> \n",
       "<tbody>    <tr> \n",
       "        <th id=\"T_157d4b54_04de_11e9_b3ba_e0accb5fc9a2level0_row0\" class=\"row_heading level0 row0\" >Oathbreaker, Last Hope of the Breaking Storm</th> \n",
       "        <th id=\"T_157d4b54_04de_11e9_b3ba_e0accb5fc9a2level1_row0\" class=\"row_heading level1 row0\" >178</th> \n",
       "        <td id=\"T_157d4b54_04de_11e9_b3ba_e0accb5fc9a2row0_col0\" class=\"data row0 col0\" >12</td> \n",
       "        <td id=\"T_157d4b54_04de_11e9_b3ba_e0accb5fc9a2row0_col1\" class=\"data row0 col1\" >$4.23</td> \n",
       "        <td id=\"T_157d4b54_04de_11e9_b3ba_e0accb5fc9a2row0_col2\" class=\"data row0 col2\" >$50.76</td> \n",
       "    </tr>    <tr> \n",
       "        <th id=\"T_157d4b54_04de_11e9_b3ba_e0accb5fc9a2level0_row1\" class=\"row_heading level0 row1\" >Nirvana</th> \n",
       "        <th id=\"T_157d4b54_04de_11e9_b3ba_e0accb5fc9a2level1_row1\" class=\"row_heading level1 row1\" >82</th> \n",
       "        <td id=\"T_157d4b54_04de_11e9_b3ba_e0accb5fc9a2row1_col0\" class=\"data row1 col0\" >9</td> \n",
       "        <td id=\"T_157d4b54_04de_11e9_b3ba_e0accb5fc9a2row1_col1\" class=\"data row1 col1\" >$4.90</td> \n",
       "        <td id=\"T_157d4b54_04de_11e9_b3ba_e0accb5fc9a2row1_col2\" class=\"data row1 col2\" >$44.10</td> \n",
       "    </tr>    <tr> \n",
       "        <th id=\"T_157d4b54_04de_11e9_b3ba_e0accb5fc9a2level0_row2\" class=\"row_heading level0 row2\" >Fiery Glass Crusader</th> \n",
       "        <th id=\"T_157d4b54_04de_11e9_b3ba_e0accb5fc9a2level1_row2\" class=\"row_heading level1 row2\" >145</th> \n",
       "        <td id=\"T_157d4b54_04de_11e9_b3ba_e0accb5fc9a2row2_col0\" class=\"data row2 col0\" >9</td> \n",
       "        <td id=\"T_157d4b54_04de_11e9_b3ba_e0accb5fc9a2row2_col1\" class=\"data row2 col1\" >$4.58</td> \n",
       "        <td id=\"T_157d4b54_04de_11e9_b3ba_e0accb5fc9a2row2_col2\" class=\"data row2 col2\" >$41.22</td> \n",
       "    </tr>    <tr> \n",
       "        <th id=\"T_157d4b54_04de_11e9_b3ba_e0accb5fc9a2level0_row3\" class=\"row_heading level0 row3\" >Singed Scalpel</th> \n",
       "        <th id=\"T_157d4b54_04de_11e9_b3ba_e0accb5fc9a2level1_row3\" class=\"row_heading level1 row3\" >103</th> \n",
       "        <td id=\"T_157d4b54_04de_11e9_b3ba_e0accb5fc9a2row3_col0\" class=\"data row3 col0\" >8</td> \n",
       "        <td id=\"T_157d4b54_04de_11e9_b3ba_e0accb5fc9a2row3_col1\" class=\"data row3 col1\" >$4.35</td> \n",
       "        <td id=\"T_157d4b54_04de_11e9_b3ba_e0accb5fc9a2row3_col2\" class=\"data row3 col2\" >$34.80</td> \n",
       "    </tr>    <tr> \n",
       "        <th id=\"T_157d4b54_04de_11e9_b3ba_e0accb5fc9a2level0_row4\" class=\"row_heading level0 row4\" >Lightning, Etcher of the King</th> \n",
       "        <th id=\"T_157d4b54_04de_11e9_b3ba_e0accb5fc9a2level1_row4\" class=\"row_heading level1 row4\" >59</th> \n",
       "        <td id=\"T_157d4b54_04de_11e9_b3ba_e0accb5fc9a2row4_col0\" class=\"data row4 col0\" >8</td> \n",
       "        <td id=\"T_157d4b54_04de_11e9_b3ba_e0accb5fc9a2row4_col1\" class=\"data row4 col1\" >$4.23</td> \n",
       "        <td id=\"T_157d4b54_04de_11e9_b3ba_e0accb5fc9a2row4_col2\" class=\"data row4 col2\" >$33.84</td> \n",
       "    </tr></tbody> \n",
       "</table> "
      ],
      "text/plain": [
       "<pandas.io.formats.style.Styler at 0x115477e80>"
      ]
     },
     "execution_count": 165,
     "metadata": {},
     "output_type": "execute_result"
    }
   ],
   "source": [
    "most_popfinal = prefinal_df.sort_values('Total Purchase Value', ascending=False).head()\n",
    "most_popfinal.style.format({\"Item Price\": \"${:.2f}\", \"Total Purchase Value\": \"${:.2f}\"})"
   ]
  },
  {
   "cell_type": "code",
   "execution_count": null,
   "metadata": {},
   "outputs": [],
   "source": []
  }
 ],
 "metadata": {
  "anaconda-cloud": {},
  "kernel_info": {
   "name": "python3"
  },
  "kernelspec": {
   "display_name": "Python 3",
   "language": "python",
   "name": "python3"
  },
  "language_info": {
   "codemirror_mode": {
    "name": "ipython",
    "version": 3
   },
   "file_extension": ".py",
   "mimetype": "text/x-python",
   "name": "python",
   "nbconvert_exporter": "python",
   "pygments_lexer": "ipython3",
   "version": "3.7.0"
  },
  "nteract": {
   "version": "0.2.0"
  }
 },
 "nbformat": 4,
 "nbformat_minor": 2
}
